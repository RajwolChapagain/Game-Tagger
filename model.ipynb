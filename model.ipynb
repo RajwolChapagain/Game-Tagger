import torch
import numpy
import random
import os
from torch import nn
from PIL import Image
from pathlib import Path

device = 'cuda' if torch.cuda.is_available() else 'cpu'

all_images = Path('./').glob('*/*')

all_images = [ img for img in all_images if not os.path.isdir(img) ]

random_image = random.choice(all_images)

img = Image.open(random_image)

os.system(f'kitten icat {img}')
